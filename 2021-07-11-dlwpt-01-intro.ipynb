{
 "cells": [
  {
   "cell_type": "markdown",
   "metadata": {},
   "source": [
    "## Chapter Contents\n",
    "\n",
    "- [Chapter 01 Summary](#1.Summary)\n",
    "- [1.1 The deep learning revolution](#1.1.)\n",
    "- [1.2 PyTorch for deep learning](#1.2.)\n",
    "- [1.3 Why PyTorch?](#1.3.)\n",
    "    - [1.3.1 The deep learning competitive landscape](#1.3.1)\n",
    "- [1.4 An overview of how PyTorch supports deep learning](#1.4.)\n",
    "- [1.5 Hardware and software requirements](#1.5.)\n",
    "    - [1.5.1 Using Jupyter Notebooks](#1.5.1)\n",
    "- [1.6 Exercises](#1.6.)"
   ]
  },
  {
   "cell_type": "markdown",
   "metadata": {},
   "source": [
    "<a id=\"1.Summary\"></a>\n",
    "## Chapter 01 Summary"
   ]
  },
  {
   "cell_type": "markdown",
   "metadata": {},
   "source": [
    "- Deep learning models automatically learn to associate inputs and desired outputs from examples\n",
    "- Libraries like PyTorch allow you to build and train neural network models efficiently\n",
    "- PyTorch minimizes cognitive overhead while focusing on flexibility and speed. It also defaults to immediate execution for operations\n",
    "- Since the release of PyTorch in early 2017, the deep learning tooling ecosystem has consolidated significantly.\n",
    "- PyTorch provides a number of utility libraries to facilitate deep learning projects."
   ]
  },
  {
   "cell_type": "markdown",
   "metadata": {},
   "source": [
    "#### about \"deep learning\"\n",
    "- deep learning is basically a general class of algorithms that are able to approximate complicated, nonlinear processes very very effectively\n",
    "- in fact, according to the *Universal Approximation Theorem*, it is implied that neural networks theoretically can approximate any non-linear function given the right set of weights (parameters)"
   ]
  },
  {
   "cell_type": "markdown",
   "metadata": {},
   "source": [
    "#### prerequisites for the book\n",
    "- python programming experience\n",
    "- willingness to go hands-on"
   ]
  },
  {
   "cell_type": "markdown",
   "metadata": {},
   "source": [
    "#### structure of the book\n",
    "- part 1 : foundations (basic concepts and using PyTorch)\n",
    "- part 2 : end-to-end project (classifying tumors in CT scans)\n",
    "- part 3 : deploying deep learning models to production (short)"
   ]
  },
  {
   "cell_type": "markdown",
   "metadata": {},
   "source": [
    "<a id=\"1.1.\"></a>\n",
    "## 1.1. The deep learning revolution"
   ]
  },
  {
   "cell_type": "markdown",
   "metadata": {},
   "source": [
    "#### deep learning has become very powerful\n",
    "- example: screenshot demo of [GPT-2 language model](https;//talktotransformer.com)\n",
    "- though factually nonsense, the output sounds coherent\n",
    "- a more advanced model [GPT-3](https://openai.com/blog/openai-api/) has already been trained, but access is limited for fear of abuse and misuse as it may be too powerful\n",
    "\n",
    "\n",
    "#### how did deep learning revolutionize machine learning?\n",
    "##### before: feature engineering (right)\n",
    "- up until last decade, field of machine learning used \"feature engineering\"\n",
    "- e.g. transformations such as filters that detect edges of characcters, allowing the system to differentiate digits based on distribution of edge directions, or number of enclosed holes\n",
    "\n",
    "##### now: primarily deep learning (left)\n",
    "- iterate through pairs of examples and target labels to automatically refine filters for features\n",
    "- feature engineering still used to injuect prior knowledge into the system, but less effective than the above\n",
    "\n",
    "![](../images/dlwpt-screenshots/dlwpt-01-01.png)"
   ]
  },
  {
   "cell_type": "markdown",
   "metadata": {},
   "source": [
    "<a id=\"1.2.\"></a>\n",
    "## 1.2. PyTorch for deep learning"
   ]
  },
  {
   "cell_type": "markdown",
   "metadata": {},
   "source": [
    "<a id=\"1.3.\"></a>\n",
    "## 1.3. Why PyTorch?"
   ]
  },
  {
   "cell_type": "markdown",
   "metadata": {},
   "source": [
    "- Python library that facilitates building deep learning projects\n",
    "    - emphasis : library, not a framework\n",
    "    - mechanics:\n",
    "        - tensor (core data structure) multidimensional array similar to NumPy arrays\n",
    "        - features to perform accelerated mathematical operations on GPUs\n",
    "    - benefits:\n",
    "        - allows deep learning models to be expressed in idiomatic Python\n",
    "        - simple : clear syntax, easy to debug and learn\n",
    "        - versatile : good for real-world, high-profile work\n",
    "        - fast : high-performance C++ runtime"
   ]
  },
  {
   "cell_type": "markdown",
   "metadata": {},
   "source": [
    "<a id=\"1.3.1.\"></a>\n",
    "### 1.3.1. The deep learning competitive landscape"
   ]
  },
  {
   "cell_type": "markdown",
   "metadata": {},
   "source": [
    "#### current contenders\n",
    "(PyTorch and Tensorflow have seen feature sets starting to converge)\n",
    "- PyTorch : developed by Facebook, easy to use -> welcome by academics\n",
    "- Tensorflow : developed by Google, more robust pipeline to production -> well-used by industry\n",
    "- JAX : developed by Google (independently from Tensorflow)\n",
    "(with students moving to industry, we see PyTorch eating up Tensorflow market share)\n",
    "\n",
    "#### other notable libraries in history\n",
    "- Theano ceased active development\n",
    "- Keras consumed by Tensorflow\n",
    "- Caffe2 consumed by PyTorch"
   ]
  },
  {
   "cell_type": "markdown",
   "metadata": {},
   "source": [
    "<a id=\"1.4.\"></a>\n",
    "## 1.4. An overview of how PyTorch supports deep learning"
   ]
  },
  {
   "cell_type": "markdown",
   "metadata": {},
   "source": [
    "- mostly written in C+ and CUDA (NVIDIA language for parallel processing on GPUs\n",
    "- mostly interact via Python API\n",
    "\n",
    "- ability to track operations on tensors\n",
    "- ability to analytically compute derivatives of an output with respect to any of its inuts (autograd engine)"
   ]
  },
  {
   "cell_type": "markdown",
   "metadata": {},
   "source": [
    "![](../images/dlwpt-screenshots/dlwpt-01-02.png)"
   ]
  },
  {
   "cell_type": "markdown",
   "metadata": {},
   "source": [
    "- large amounts of data -> tensors -> data loading (batches) -> training loop -> trained model -> deployment"
   ]
  },
  {
   "cell_type": "markdown",
   "metadata": {},
   "source": [
    "#### notable submodules\n",
    "- `torch.nn` : core PyTorch modules for building neural networks \n",
    "    - fully connected layers\n",
    "    - convolutional layers\n",
    "    - activation functions (see chapter 05)\n",
    "    - loss functions (see chapter 05)\n",
    "- `torch.optim` : optimizers (see chapter 05)\n",
    "- `torch.utils.data.Dataset` (see chapter 07)\n",
    "- `torch.utils.data.DataLoader` (see chapter 07)\n",
    "- `torch.nn.parallel.Distributed-DataParallel`\n",
    "- `torch.distributed`"
   ]
  },
  {
   "cell_type": "markdown",
   "metadata": {},
   "source": [
    "#### TorchScript\n",
    "- compiles models ahead of time\n",
    "- invoked independently from Python (from C++ programs on mobiles)\n",
    "- allows export of models as TorchScript or ONNX"
   ]
  },
  {
   "cell_type": "markdown",
   "metadata": {},
   "source": [
    "<a id=\"1.5.\"></a>\n",
    "## 1.5. Hardware and software requirements"
   ]
  },
  {
   "cell_type": "code",
   "execution_count": 1,
   "metadata": {},
   "outputs": [
    {
     "data": {
      "text/plain": [
       "uname_result(system='Linux', node='ntsr9pxrmo', release='5.4.0-65-generic', version='#73~18.04.1-Ubuntu SMP Tue Jan 19 09:02:24 UTC 2021', machine='x86_64', processor='x86_64')"
      ]
     },
     "execution_count": 1,
     "metadata": {},
     "output_type": "execute_result"
    }
   ],
   "source": [
    "import platform\n",
    "platform.uname()"
   ]
  },
  {
   "cell_type": "code",
   "execution_count": 2,
   "metadata": {},
   "outputs": [
    {
     "name": "stdout",
     "output_type": "stream",
     "text": [
      "Wed Jul 14 02:52:09 2021       \n",
      "+-----------------------------------------------------------------------------+\n",
      "| NVIDIA-SMI 450.36.06    Driver Version: 450.36.06    CUDA Version: 11.0     |\n",
      "|-------------------------------+----------------------+----------------------+\n",
      "| GPU  Name        Persistence-M| Bus-Id        Disp.A | Volatile Uncorr. ECC |\n",
      "| Fan  Temp  Perf  Pwr:Usage/Cap|         Memory-Usage | GPU-Util  Compute M. |\n",
      "|                               |                      |               MIG M. |\n",
      "|===============================+======================+======================|\n",
      "|   0  Quadro P5000        On   | 00000000:00:05.0 Off |                  Off |\n",
      "| 26%   31C    P8     6W / 180W |      1MiB / 16278MiB |      0%      Default |\n",
      "|                               |                      |                  N/A |\n",
      "+-------------------------------+----------------------+----------------------+\n",
      "                                                                               \n",
      "+-----------------------------------------------------------------------------+\n",
      "| Processes:                                                                  |\n",
      "|  GPU   GI   CI        PID   Type   Process name                  GPU Memory |\n",
      "|        ID   ID                                                   Usage      |\n",
      "|=============================================================================|\n",
      "|  No running processes found                                                 |\n",
      "+-----------------------------------------------------------------------------+\n",
      "WARNING: infoROM is corrupted at gpu 0000:00:05.0\n"
     ]
    }
   ],
   "source": [
    "!nvidia-smi"
   ]
  },
  {
   "cell_type": "markdown",
   "metadata": {},
   "source": [
    "check out the [DAWNBench page](https://dawn.cs.stanford.edu/benchmark/index.html) for benchmarks on training time and costs related to common deep learning tasks on publicly available datasets."
   ]
  },
  {
   "cell_type": "markdown",
   "metadata": {},
   "source": [
    "#### tech specifications\n",
    "\n",
    "- [installation of PyTorch](https://pytorch.org/get-started/locally/)\n",
    "- package managers such as conda, pip\n",
    "- 200GB hard disk space for Part 2 (120GB storage, 80GB training)"
   ]
  },
  {
   "cell_type": "markdown",
   "metadata": {},
   "source": [
    "<a id=\"1.5.1.\"></a>\n",
    "## 1.5.1. Using Jupyter Notebooks"
   ]
  },
  {
   "cell_type": "markdown",
   "metadata": {},
   "source": [
    "many useful online resources, e.g. [Dataquest's tutorial](https://www.dataquest.io/blog/jupyter-notebook-tutorial/)"
   ]
  },
  {
   "cell_type": "markdown",
   "metadata": {},
   "source": [
    "#### some useful shortcut keys (see [here](https://towardsdatascience.com/jypyter-notebook-shortcuts-bf0101a98330) for more)\n",
    "\n",
    "Shortcuts in both modes:\n",
    "- Shift + Enter run the current cell, select below\n",
    "- Ctrl + Enter run selected cells\n",
    "- Alt + Enter run the current cell, insert below\n",
    "- Ctrl + S save and checkpoint\n",
    "\n",
    "While in command mode (press Esc to activate):\n",
    "\n",
    "- Enter take you into edit mode\n",
    "- H show all shortcuts\n",
    "- Up select cell above\n",
    "- Down select cell below\n",
    "- Shift + Up extend selected cells above\n",
    "- Shift + Down extend selected cells below\n",
    "- A insert cell above\n",
    "- B insert cell below\n",
    "- X cut selected cells\n",
    "- C copy selected cells\n",
    "- V paste cells below\n",
    "- Shift + V paste cells above\n",
    "- D, D (press the key twice) delete selected cells\n",
    "- Z undo cell deletion\n",
    "- S Save and Checkpoint\n",
    "- Y change the cell type to Code\n",
    "- M change the cell type to Markdown\n",
    "- P open the command palette. \n",
    "- Shift + Space scroll notebook up\n",
    "- Space scroll notebook down\n",
    "\n",
    "While in edit mode (pressEnter to activate)\n",
    "\n",
    "- Esc take you into command mode\n",
    "- Tab code completion or indent\n",
    "- Shift + Tab tooltip\n",
    "- Ctrl + ] indent\n",
    "- Ctrl + [ dedent\n",
    "- Ctrl + A select all\n",
    "- Ctrl + Z undo\n",
    "- Ctrl + Shift + Z or Ctrl + Y redo\n",
    "- Ctrl + Home go to cell start\n",
    "- Ctrl + End go to cell end\n",
    "- Ctrl + Left go one word left\n",
    "- Ctrl + Right go one word right\n",
    "- Ctrl + Shift + P open the command palette\n",
    "- Down move cursor down\n",
    "- Up move cursor up\n"
   ]
  },
  {
   "cell_type": "markdown",
   "metadata": {},
   "source": [
    "#### magic methods\n",
    "useful methods specific to and provided by the IPython kernel"
   ]
  },
  {
   "cell_type": "code",
   "execution_count": 3,
   "metadata": {},
   "outputs": [
    {
     "data": {
      "application/json": {
       "cell": {
        "!": "OSMagics",
        "HTML": "Other",
        "SVG": "Other",
        "bash": "Other",
        "capture": "ExecutionMagics",
        "debug": "ExecutionMagics",
        "file": "Other",
        "html": "DisplayMagics",
        "javascript": "DisplayMagics",
        "js": "DisplayMagics",
        "latex": "DisplayMagics",
        "markdown": "DisplayMagics",
        "perl": "Other",
        "prun": "ExecutionMagics",
        "pypy": "Other",
        "python": "Other",
        "python2": "Other",
        "python3": "Other",
        "ruby": "Other",
        "script": "ScriptMagics",
        "sh": "Other",
        "svg": "DisplayMagics",
        "sx": "OSMagics",
        "system": "OSMagics",
        "time": "ExecutionMagics",
        "timeit": "ExecutionMagics",
        "writefile": "OSMagics"
       },
       "line": {
        "alias": "OSMagics",
        "alias_magic": "BasicMagics",
        "autoawait": "AsyncMagics",
        "autocall": "AutoMagics",
        "automagic": "AutoMagics",
        "autosave": "KernelMagics",
        "bookmark": "OSMagics",
        "cat": "Other",
        "cd": "OSMagics",
        "clear": "KernelMagics",
        "colors": "BasicMagics",
        "conda": "PackagingMagics",
        "config": "ConfigMagics",
        "connect_info": "KernelMagics",
        "cp": "Other",
        "debug": "ExecutionMagics",
        "dhist": "OSMagics",
        "dirs": "OSMagics",
        "doctest_mode": "BasicMagics",
        "ed": "Other",
        "edit": "KernelMagics",
        "env": "OSMagics",
        "gui": "BasicMagics",
        "hist": "Other",
        "history": "HistoryMagics",
        "killbgscripts": "ScriptMagics",
        "ldir": "Other",
        "less": "KernelMagics",
        "lf": "Other",
        "lk": "Other",
        "ll": "Other",
        "load": "CodeMagics",
        "load_ext": "ExtensionMagics",
        "loadpy": "CodeMagics",
        "logoff": "LoggingMagics",
        "logon": "LoggingMagics",
        "logstart": "LoggingMagics",
        "logstate": "LoggingMagics",
        "logstop": "LoggingMagics",
        "ls": "Other",
        "lsmagic": "BasicMagics",
        "lx": "Other",
        "macro": "ExecutionMagics",
        "magic": "BasicMagics",
        "man": "KernelMagics",
        "matplotlib": "PylabMagics",
        "mkdir": "Other",
        "more": "KernelMagics",
        "mv": "Other",
        "notebook": "BasicMagics",
        "page": "BasicMagics",
        "pastebin": "CodeMagics",
        "pdb": "ExecutionMagics",
        "pdef": "NamespaceMagics",
        "pdoc": "NamespaceMagics",
        "pfile": "NamespaceMagics",
        "pinfo": "NamespaceMagics",
        "pinfo2": "NamespaceMagics",
        "pip": "PackagingMagics",
        "popd": "OSMagics",
        "pprint": "BasicMagics",
        "precision": "BasicMagics",
        "prun": "ExecutionMagics",
        "psearch": "NamespaceMagics",
        "psource": "NamespaceMagics",
        "pushd": "OSMagics",
        "pwd": "OSMagics",
        "pycat": "OSMagics",
        "pylab": "PylabMagics",
        "qtconsole": "KernelMagics",
        "quickref": "BasicMagics",
        "recall": "HistoryMagics",
        "rehashx": "OSMagics",
        "reload_ext": "ExtensionMagics",
        "rep": "Other",
        "rerun": "HistoryMagics",
        "reset": "NamespaceMagics",
        "reset_selective": "NamespaceMagics",
        "rm": "Other",
        "rmdir": "Other",
        "run": "ExecutionMagics",
        "save": "CodeMagics",
        "sc": "OSMagics",
        "set_env": "OSMagics",
        "store": "StoreMagics",
        "sx": "OSMagics",
        "system": "OSMagics",
        "tb": "ExecutionMagics",
        "time": "ExecutionMagics",
        "timeit": "ExecutionMagics",
        "unalias": "OSMagics",
        "unload_ext": "ExtensionMagics",
        "who": "NamespaceMagics",
        "who_ls": "NamespaceMagics",
        "whos": "NamespaceMagics",
        "xdel": "NamespaceMagics",
        "xmode": "BasicMagics"
       }
      },
      "text/plain": [
       "Available line magics:\n",
       "%alias  %alias_magic  %autoawait  %autocall  %automagic  %autosave  %bookmark  %cat  %cd  %clear  %colors  %conda  %config  %connect_info  %cp  %debug  %dhist  %dirs  %doctest_mode  %ed  %edit  %env  %gui  %hist  %history  %killbgscripts  %ldir  %less  %lf  %lk  %ll  %load  %load_ext  %loadpy  %logoff  %logon  %logstart  %logstate  %logstop  %ls  %lsmagic  %lx  %macro  %magic  %man  %matplotlib  %mkdir  %more  %mv  %notebook  %page  %pastebin  %pdb  %pdef  %pdoc  %pfile  %pinfo  %pinfo2  %pip  %popd  %pprint  %precision  %prun  %psearch  %psource  %pushd  %pwd  %pycat  %pylab  %qtconsole  %quickref  %recall  %rehashx  %reload_ext  %rep  %rerun  %reset  %reset_selective  %rm  %rmdir  %run  %save  %sc  %set_env  %store  %sx  %system  %tb  %time  %timeit  %unalias  %unload_ext  %who  %who_ls  %whos  %xdel  %xmode\n",
       "\n",
       "Available cell magics:\n",
       "%%!  %%HTML  %%SVG  %%bash  %%capture  %%debug  %%file  %%html  %%javascript  %%js  %%latex  %%markdown  %%perl  %%prun  %%pypy  %%python  %%python2  %%python3  %%ruby  %%script  %%sh  %%svg  %%sx  %%system  %%time  %%timeit  %%writefile\n",
       "\n",
       "Automagic is ON, % prefix IS NOT needed for line magics."
      ]
     },
     "execution_count": 3,
     "metadata": {},
     "output_type": "execute_result"
    }
   ],
   "source": [
    "# list all magic methods\n",
    "%lsmagic"
   ]
  },
  {
   "cell_type": "markdown",
   "metadata": {},
   "source": [
    "#### noteable magic methods\n",
    "\n",
    "##### %autosave  n \n",
    "Changes how often your notebook will autosave to its checkpoint file.\n",
    "i.e. Autosaving every n seconds\n",
    "\n",
    "##### %matplotlib inline\n",
    "Providing the inline argument instructs IPython to show Matplotlib plot images inline, within your cell outputs, enabling you to include charts inside your notebooks. Be sure to include this magic before you import Matplotlib, as it may not work if you do not; many import it at the start of their notebook, in the first code cell.\n",
    "\n",
    "##### %pdb  /  %debug\n",
    "Executing the %pdb line magic will toggle on/off the automatic triggering of pdb on error across all cells in your notebook. This exposes an interactive mode in which you can use the pdb commands.\n",
    "\n",
    "Another handy debugging magic is %debug, which you can execute after an exception has been raised to delve back into the call stack at the time of failure\n",
    "\n",
    "##### %load\n",
    "Tasks such as importing the same set of packages over and over for every project project are a perfect candidate for the %load magic, which will load an external script into the cell in which it’s executed.\n",
    "\n",
    "###### %run \n",
    "Runs an external script file as part of the cell being executed.\n",
    "For example, if %run myscript.py appears in a code cell, myscript.py will be executed by the kernel as part of that cell.\n",
    "\n",
    "##### %timeit\n",
    "Counts loops, measures and reports how long a code cell takes to execute.\n",
    "\n",
    "##### %writefile\n",
    "Save the contents of a cell to a file.\n",
    "For example, %savefile myscript.py would save the code cell as an external file called myscript.py.\n",
    "\n",
    "##### %env\n",
    "report_date = %env REPORT_DATE\n",
    "The %env line magic makes it easy to assign the value of an environment variable to a Python variable.\n",
    "\n",
    "##### %store\n",
    "Save a variable for use in a different notebook.\n",
    "\n",
    "##### %pwd\n",
    "Print the directory path you're currently working in.\n",
    "\n",
    "##### %%javascript  /  %%latex  /  %%HTML / %SQL\n",
    "Runs the cell as JavaScript, latex, html code, or SQL query.\n",
    "Latex will be useful presenting equations.\n"
   ]
  },
  {
   "cell_type": "markdown",
   "metadata": {},
   "source": [
    "For parametizing and executing Jupyter notebooks (like Python source files), see [Papermill](https://papermill.readthedocs.io/en/latest/). \n",
    "\n",
    "For using SQL in notebooks, see [here](https://towardsdatascience.com/heres-how-to-run-sql-in-jupyter-notebooks-f26eb90f3259)."
   ]
  },
  {
   "cell_type": "markdown",
   "metadata": {},
   "source": [
    "<a id=\"1.6.\"></a>\n",
    "## 1.6. Exercises"
   ]
  },
  {
   "cell_type": "markdown",
   "metadata": {},
   "source": [
    "1. Start Python to get an interactive prompt.\n",
    "    1. What Python version are you using? We hope it is at least 3.6!\n",
    "    1. Can you import torch ? What version of PyTorch do you get?\n",
    "    1. What is the result of torch.cuda.is_available() ? Does it match your expectation based on the hardware you’re using?\n",
    "2. Start the Jupyter notebook server.\n",
    "    1. What version of Python is Jupyter using?\n",
    "    1. Is the location of the torch library used by Jupyter the same as the one you imported from the interactive prompt?"
   ]
  },
  {
   "cell_type": "code",
   "execution_count": 4,
   "metadata": {},
   "outputs": [
    {
     "name": "stdout",
     "output_type": "stream",
     "text": [
      "Python 3.8.6\n"
     ]
    }
   ],
   "source": [
    "#1a\n",
    "!python3 --version"
   ]
  },
  {
   "cell_type": "code",
   "execution_count": 5,
   "metadata": {},
   "outputs": [
    {
     "data": {
      "text/plain": [
       "'1.7.0'"
      ]
     },
     "execution_count": 5,
     "metadata": {},
     "output_type": "execute_result"
    }
   ],
   "source": [
    "#1b\n",
    "import torch\n",
    "torch.__version__"
   ]
  },
  {
   "cell_type": "code",
   "execution_count": 6,
   "metadata": {},
   "outputs": [
    {
     "data": {
      "text/plain": [
       "True"
      ]
     },
     "execution_count": 6,
     "metadata": {},
     "output_type": "execute_result"
    }
   ],
   "source": [
    "#1c\n",
    "torch.cuda.is_available()"
   ]
  },
  {
   "cell_type": "code",
   "execution_count": 7,
   "metadata": {},
   "outputs": [
    {
     "data": {
      "text/plain": [
       "'/opt/conda/envs/fastai/lib/python3.8/site-packages/torch/__init__.py'"
      ]
     },
     "execution_count": 7,
     "metadata": {},
     "output_type": "execute_result"
    }
   ],
   "source": [
    "#2b\n",
    "torch.__file__"
   ]
  },
  {
   "cell_type": "markdown",
   "metadata": {},
   "source": [
    "##### Making sure that everything works"
   ]
  },
  {
   "cell_type": "code",
   "execution_count": 8,
   "metadata": {},
   "outputs": [
    {
     "data": {
      "text/plain": [
       "tensor([[2., 2., 2.],\n",
       "        [2., 2., 2.],\n",
       "        [2., 2., 2.]])"
      ]
     },
     "execution_count": 8,
     "metadata": {},
     "output_type": "execute_result"
    }
   ],
   "source": [
    "a = torch.ones(3, 3)\n",
    "b = torch.ones(3, 3)\n",
    "\n",
    "a + b"
   ]
  },
  {
   "cell_type": "code",
   "execution_count": 9,
   "metadata": {},
   "outputs": [
    {
     "data": {
      "text/plain": [
       "tensor([[2., 2., 2.],\n",
       "        [2., 2., 2.],\n",
       "        [2., 2., 2.]], device='cuda:0')"
      ]
     },
     "execution_count": 9,
     "metadata": {},
     "output_type": "execute_result"
    }
   ],
   "source": [
    "a.to('cuda') + b.to('cuda')"
   ]
  }
 ],
 "metadata": {
  "kernelspec": {
   "display_name": "Python 3",
   "language": "python",
   "name": "python3"
  },
  "language_info": {
   "codemirror_mode": {
    "name": "ipython",
    "version": 3
   },
   "file_extension": ".py",
   "mimetype": "text/x-python",
   "name": "python",
   "nbconvert_exporter": "python",
   "pygments_lexer": "ipython3",
   "version": "3.8.5"
  }
 },
 "nbformat": 4,
 "nbformat_minor": 4
}
